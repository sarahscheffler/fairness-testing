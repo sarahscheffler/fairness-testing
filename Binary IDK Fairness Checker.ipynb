{
 "cells": [
  {
   "cell_type": "code",
   "execution_count": 1,
   "metadata": {},
   "outputs": [],
   "source": [
    "import numpy as np\n",
    "import pandas as pd\n",
    "from ipywidgets import widgets, Layout, HBox\n",
    "from IPython.display import display\n",
    "from __future__ import print_function"
   ]
  },
  {
   "cell_type": "code",
   "execution_count": 2,
   "metadata": {},
   "outputs": [],
   "source": [
    "STEP=0.001\n",
    "CLOSE=0.01"
   ]
  },
  {
   "cell_type": "code",
   "execution_count": null,
   "metadata": {},
   "outputs": [],
   "source": []
  },
  {
   "cell_type": "code",
   "execution_count": 3,
   "metadata": {},
   "outputs": [
    {
     "data": {
      "application/vnd.jupyter.widget-view+json": {
       "model_id": "643a17f6ffb3459cb524a10d9945364b",
       "version_major": 2,
       "version_minor": 0
      },
      "text/plain": [
       "FloatSlider(value=0.5, continuous_update=False, max=0.996, min=0.004, orientation='vertical', step=0.001)"
      ]
     },
     "metadata": {},
     "output_type": "display_data"
    },
    {
     "data": {
      "application/vnd.jupyter.widget-view+json": {
       "model_id": "cc6cce553d9049c78862b16fb6d7446e",
       "version_major": 2,
       "version_minor": 0
      },
      "text/plain": [
       "interactive(children=(FloatRangeSlider(value=(0.25, 0.5), continuous_update=False, description='t0p0=0.250 // …"
      ]
     },
     "metadata": {},
     "output_type": "display_data"
    },
    {
     "data": {
      "application/vnd.jupyter.widget-view+json": {
       "model_id": "b22ff23ec89f46b6b7be333b70d22f37",
       "version_major": 2,
       "version_minor": 0
      },
      "text/plain": [
       "FloatSlider(value=0.5, continuous_update=False, max=0.996, min=0.004, orientation='vertical', step=0.001)"
      ]
     },
     "metadata": {},
     "output_type": "display_data"
    },
    {
     "data": {
      "application/vnd.jupyter.widget-view+json": {
       "model_id": "9e86a6a309184ea48893aad9cad28559",
       "version_major": 2,
       "version_minor": 0
      },
      "text/plain": [
       "interactive(children=(FloatRangeSlider(value=(0.25, 0.5), continuous_update=False, description='t0p0=0.250 // …"
      ]
     },
     "metadata": {},
     "output_type": "display_data"
    },
    {
     "data": {
      "application/vnd.jupyter.widget-view+json": {
       "model_id": "cc60c73f633f45559a7cb87ffaad5e97",
       "version_major": 2,
       "version_minor": 0
      },
      "text/plain": [
       "Valid(value=True, description='PPV equality? A_ppv = 0.500, B_ppv = 0.500', layout=Layout(height='100%', width…"
      ]
     },
     "metadata": {},
     "output_type": "display_data"
    },
    {
     "data": {
      "application/vnd.jupyter.widget-view+json": {
       "model_id": "f9636d23414d497e83abe515848980d9",
       "version_major": 2,
       "version_minor": 0
      },
      "text/plain": [
       "Valid(value=True, description='NPV equality? A_npv = 0.500, B_npv = 0.500', layout=Layout(height='100%', width…"
      ]
     },
     "metadata": {},
     "output_type": "display_data"
    },
    {
     "data": {
      "application/vnd.jupyter.widget-view+json": {
       "model_id": "61b75f5212394497b362322d1fe5c6d2",
       "version_major": 2,
       "version_minor": 0
      },
      "text/plain": [
       "HBox(children=(Valid(value=True, description='FPR (DID) equality? A_fpr(did) = 0.500, B_fpr(did) = 0.500', lay…"
      ]
     },
     "metadata": {},
     "output_type": "display_data"
    },
    {
     "data": {
      "application/vnd.jupyter.widget-view+json": {
       "model_id": "62272be8aeab4a99a96b3fd8c45ff106",
       "version_major": 2,
       "version_minor": 0
      },
      "text/plain": [
       "HBox(children=(Valid(value=True, description='FNR (DID) equality? A_fnr(did) = 0.500, B_fnr(did) = 0.500', lay…"
      ]
     },
     "metadata": {},
     "output_type": "display_data"
    }
   ],
   "source": [
    "# DID\n",
    "\n",
    "################# A ###############3\n",
    "# Base rate must be between 4*STEP and 1-4*STEP to allow for nonzero t0p0, t0p1, t1p0, t1p1\n",
    "A_base_rate_slider=widgets.FloatSlider(min=STEP*4.0, max=1.0-(STEP*4.0), step=STEP, value=0.5,\n",
    "                                     continuous_update=False, orientation='vertical')\n",
    "A_t0_slider = widgets.FloatRangeSlider(min=STEP, max = A_base_rate_slider.value,\n",
    "                                     value=[0.25, A_base_rate_slider.value], continuous_update=False, step=STEP, \n",
    "                                     description='t0p0=%.3f // t0p1=%.3f // t0pX=%.3f' % (0.25, 0.25, 0.0),\n",
    "                                     style={'description_width': 'initial'},\n",
    "                                     layout=Layout(width='600px', height='100%'))\n",
    "\n",
    "A_t1_slider = widgets.FloatRangeSlider(min=A_base_rate_slider.value + STEP, max = 1.0,\n",
    "                                     value=[A_base_rate_slider.value + STEP + 0.25, 1.0], continuous_update=False,\n",
    "                                     step=STEP, description='t1p0=%.3f // t1p1=%.3f // t1pX=%.3f' % (0.25, 0.25, 0.0),\n",
    "                                     style={'description_width': 'initial'},\n",
    "                                     layout=Layout(width='600px', height='100%'))\n",
    "\n",
    "def update_A_t0_description(*args):\n",
    "    A_t0_slider.description = 't0p0=%.3f // t0p1=%.3f // t0pX=%.3f' % (A_t0_slider.value[0], \n",
    "                                                        A_t0_slider.value[1] - A_t0_slider.value[0],\n",
    "                                                        A_t0_slider.max - A_t0_slider.value[1])\n",
    "A_t0_slider.observe(update_A_t0_description, ['value', 'max'])\n",
    "def update_A_t1_description(*args):\n",
    "    A_t1_slider.description = 't1p0=%.3f // t1p1=%.3f // t1pX=%.3f' % (A_t1_slider.value[0] - A_t0_slider.max,\n",
    "                                                        A_t1_slider.value[1] - A_t1_slider.value[0],\n",
    "                                                        1.0 - A_t1_slider.value[1])\n",
    "A_t1_slider.observe(update_A_t1_description, ['value', 'min'])\n",
    "\n",
    "def ensure_A_t0p1_not_0(*args):\n",
    "    if A_t0_slider.value[0] > A_t0_slider.value[1]-STEP:\n",
    "        if A_t0_slider.value[0] == A_t0_slider.min:\n",
    "            A_t0_slider.value = [A_t0_slider.value[0], A_t0_slider.value[1] + STEP]\n",
    "        else:\n",
    "            A_t0_slider.value = [A_t0_slider.value[0] - STEP, A_t0_slider.value[1]]\n",
    "A_t0_slider.observe(ensure_A_t0p1_not_0, 'value')\n",
    "def ensure_A_t1p1_not_0(*args):\n",
    "    if A_t1_slider.value[0] > A_t1_slider.value[1]-STEP:\n",
    "        if A_t1_slider.value[0] == A_t1_slider.min:\n",
    "            A_t1_slider.value = [A_t1_slider.value[0], A_t1_slider.value[1] + STEP]\n",
    "        else:\n",
    "            A_t1_slider.value = [A_t1_slider.value[0] - STEP, A_t1_slider.value[1]]\n",
    "A_t1_slider.observe(ensure_A_t1p1_not_0, 'value')\n",
    "\n",
    "def update_A_t0(*args):\n",
    "    A_t0_slider.max = 1.0 - A_base_rate_slider.value\n",
    "    if A_t0_slider.value[1] > A_t0_slider.max:\n",
    "        A_t0_slider.value[1] = A_t0_slider.max\n",
    "    if A_t0_slider.value[0] > A_t0_slider.value[1]:\n",
    "        A_t0_slider.value[0] = A_t0_slider.value[1] - STEP\n",
    "A_base_rate_slider.observe(update_A_t0, 'value')\n",
    "def update_A_t1(*args):\n",
    "    A_t1_slider.min = 1.0 - A_base_rate_slider.value + STEP\n",
    "    if A_t1_slider.value[0] < A_t1_slider.min:\n",
    "        A_t1_slider.value[0] = A_t1_slider.min + STEP\n",
    "    if A_t1_slider.value[1] < A_t1_slider.value[0]:\n",
    "        A_t1_slider.value[1] = A_t1_slider.value[0] + STEP\n",
    "A_base_rate_slider.observe(update_A_t1, 'value')\n",
    "\n",
    "def A_draw_confusion_matrix(t0=A_t0_slider, t1=A_t1_slider):\n",
    "    #print(t0, t1)\n",
    "    #(t0p0, t0p1, t0pX, t1p0, t1p1, t1pX) = get_boxes(t0, t1)\n",
    "    t0p0 = A_t0_slider.value[0]\n",
    "    t0p1 = A_t0_slider.value[1] - A_t0_slider.value[0]\n",
    "    t0pX = A_t0_slider.max - A_t0_slider.value[1]\n",
    "    t1p0 = A_t1_slider.value[0] - A_t1_slider.min\n",
    "    t1p1 = A_t1_slider.value[1] - A_t1_slider.value[0]\n",
    "    t1pX = 1.0 - A_t1_slider.value[1]\n",
    "    t = np.array([[t0p0, t0p1, t0pX],[t1p0, t1p1, t1pX]])\n",
    "    df = pd.DataFrame(t, index=[\"t0\", \"t1\"], columns=[\"p0\", \"p1\", \"pX\"])\n",
    "    display(df)\n",
    "    return df\n",
    "\n",
    "A_w = widgets.interactive(A_draw_confusion_matrix, t0=A_t0_slider, t1=A_t1_slider)\n",
    "\n",
    "display(A_base_rate_slider)\n",
    "display(A_w)\n",
    "\n",
    "\n",
    "\n",
    "################# B ###############3\n",
    "# Base rate must be between 4*STEP and 1-4*STEP to allow for nonzero t0p0, t0p1, t1p0, t1p1\n",
    "B_base_rate_slider=widgets.FloatSlider(min=STEP*4.0, max=1.0-(STEP*4.0), step=STEP, value=0.5,\n",
    "                                     continuous_update=False, orientation='vertical')\n",
    "B_t0_slider = widgets.FloatRangeSlider(min=STEP, max = B_base_rate_slider.value,\n",
    "                                     value=[0.25, B_base_rate_slider.value], continuous_update=False, step=STEP, \n",
    "                                     description='t0p0=%.3f // t0p1=%.3f // t0pX=%.3f' % (0.25, 0.25, 0.0),\n",
    "                                     style={'description_width': 'initial'},\n",
    "                                     layout=Layout(width='600px', height='100%'))\n",
    "\n",
    "B_t1_slider = widgets.FloatRangeSlider(min=B_base_rate_slider.value + STEP, max = 1.0,\n",
    "                                     value=[B_base_rate_slider.value + STEP + 0.25, 1.0], continuous_update=False,\n",
    "                                     step=STEP, description='t1p0=%.3f // t1p1=%.3f // t1pX=%.3f' % (0.25, 0.25, 0.0),\n",
    "                                     style={'description_width': 'initial'},\n",
    "                                     layout=Layout(width='600px', height='100%'))\n",
    "\n",
    "def update_B_t0_description(*args):\n",
    "    B_t0_slider.description = 't0p0=%.3f // t0p1=%.3f // t0pX=%.3f' % (B_t0_slider.value[0], \n",
    "                                                        B_t0_slider.value[1] - B_t0_slider.value[0],\n",
    "                                                        B_t0_slider.max - B_t0_slider.value[1])\n",
    "B_t0_slider.observe(update_B_t0_description, ['value', 'max'])\n",
    "def update_B_t1_description(*args):\n",
    "    B_t1_slider.description = 't1p0=%.3f // t1p1=%.3f // t1pX=%.3f' % (B_t1_slider.value[0] - B_t0_slider.max,\n",
    "                                                        B_t1_slider.value[1] - B_t1_slider.value[0],\n",
    "                                                        1.0 - B_t1_slider.value[1])\n",
    "B_t1_slider.observe(update_B_t1_description, ['value', 'min'])\n",
    "\n",
    "def ensure_B_t0p1_not_0(*args):\n",
    "    if B_t0_slider.value[0] > B_t0_slider.value[1]-STEP:\n",
    "        if B_t0_slider.value[0] == B_t0_slider.min:\n",
    "            B_t0_slider.value = [B_t0_slider.value[0], B_t0_slider.value[1] + STEP]\n",
    "        else:\n",
    "            B_t0_slider.value = [B_t0_slider.value[0] - STEP, B_t0_slider.value[1]]\n",
    "B_t0_slider.observe(ensure_B_t0p1_not_0, 'value')\n",
    "def ensure_B_t1p1_not_0(*args):\n",
    "    if B_t1_slider.value[0] > B_t1_slider.value[1]-STEP:\n",
    "        if B_t1_slider.value[0] == B_t1_slider.min:\n",
    "            B_t1_slider.value = [B_t1_slider.value[0], B_t1_slider.value[1] + STEP]\n",
    "        else:\n",
    "            B_t1_slider.value = [B_t1_slider.value[0] - STEP, B_t1_slider.value[1]]\n",
    "B_t1_slider.observe(ensure_B_t1p1_not_0, 'value')\n",
    "\n",
    "def update_B_t0(*args):\n",
    "    B_t0_slider.max = 1.0 - B_base_rate_slider.value\n",
    "    if B_t0_slider.value[1] > B_t0_slider.max:\n",
    "        B_t0_slider.value[1] = B_t0_slider.max\n",
    "    if B_t0_slider.value[0] > B_t0_slider.value[1]:\n",
    "        B_t0_slider.value[0] = B_t0_slider.value[1] - STEP\n",
    "B_base_rate_slider.observe(update_B_t0, 'value')\n",
    "def update_B_t1(*args):\n",
    "    B_t1_slider.min = 1.0 - B_base_rate_slider.value + STEP\n",
    "    if B_t1_slider.value[0] < B_t1_slider.min:\n",
    "        B_t1_slider.value[0] = B_t1_slider.min + STEP\n",
    "    if B_t1_slider.value[1] < B_t1_slider.value[0]:\n",
    "        B_t1_slider.value[1] = B_t1_slider.value[0] + STEP\n",
    "B_base_rate_slider.observe(update_B_t1, 'value')\n",
    "\n",
    "def B_draw_confusion_matrix(t0=B_t0_slider, t1=B_t1_slider):\n",
    "    #print(t0, t1)\n",
    "    #(t0p0, t0p1, t0pX, t1p0, t1p1, t1pX) = get_boxes(t0, t1)\n",
    "    t0p0 = B_t0_slider.value[0]\n",
    "    t0p1 = B_t0_slider.value[1] - B_t0_slider.value[0]\n",
    "    t0pX = B_t0_slider.max - B_t0_slider.value[1]\n",
    "    t1p0 = B_t1_slider.value[0] - B_t1_slider.min\n",
    "    t1p1 = B_t1_slider.value[1] - B_t1_slider.value[0]\n",
    "    t1pX = 1.0 - B_t1_slider.value[1]\n",
    "    t = np.array([[t0p0, t0p1, t0pX],[t1p0, t1p1, t1pX]])\n",
    "    df = pd.DataFrame(t, index=[\"t0\", \"t1\"], columns=[\"p0\", \"p1\", \"pX\"])\n",
    "    display(df)\n",
    "    return df\n",
    "\n",
    "B_w = widgets.interactive(B_draw_confusion_matrix, t0=B_t0_slider, t1=B_t1_slider)\n",
    "\n",
    "display(B_base_rate_slider)\n",
    "display(B_w)\n",
    "\n",
    "\n",
    "########### COMBINED ###########\n",
    "\n",
    "ppv = widgets.Valid(value = True, description = \"PPV equality? A_ppv = %.3f, B_ppv = %.3f\" % (0.5, 0.5), \n",
    "                    style={'description_width': 'initial'}, layout=Layout(width='600px', height='100%'))\n",
    "def check_ppv_equal(A_t0=A_t0_slider, A_t1=A_t1_slider, B_t0=B_t0_slider, B_t1=B_t1_slider):\n",
    "    A_t0p1 = A_t0_slider.value[1] - A_t0_slider.value[0]\n",
    "    A_t1p1 = A_t1_slider.value[1] - A_t1_slider.value[0]\n",
    "    B_t0p1 = B_t0_slider.value[1] - B_t0_slider.value[0]\n",
    "    B_t1p1 = B_t1_slider.value[1] - B_t1_slider.value[0]\n",
    "    A_ppv = A_t1p1 / (A_t1p1 + A_t0p1)\n",
    "    B_ppv = B_t1p1 / (B_t1p1 + B_t0p1)\n",
    "    ppv.description = \"PPV equality? A_ppv = %.3f, B_ppv = %.3f\" % (A_ppv, B_ppv)\n",
    "    ppv.value = A_ppv - CLOSE <= B_ppv <= A_ppv + CLOSE\n",
    "A_t0_slider.observe(check_ppv_equal, 'value')\n",
    "A_t1_slider.observe(check_ppv_equal, 'value')\n",
    "B_t0_slider.observe(check_ppv_equal, 'value')\n",
    "B_t1_slider.observe(check_ppv_equal, 'value')\n",
    "A_base_rate_slider.observe(check_ppv_equal, 'value')\n",
    "B_base_rate_slider.observe(check_ppv_equal, 'value')\n",
    "display(ppv)\n",
    "    \n",
    "npv = widgets.Valid(value = True, description = \"NPV equality? A_npv = %.3f, B_npv = %.3f\" % (0.5, 0.5), \n",
    "                    style={'description_width': 'initial'}, layout=Layout(width='600px', height='100%'))\n",
    "def check_npv_equal(A_t0=A_t0_slider, A_t1=A_t1_slider, B_t0=B_t0_slider, B_t1=B_t1_slider):\n",
    "    A_t0p0 = A_t0_slider.value[0]\n",
    "    A_t1p0 = A_t1_slider.value[0] - A_t1_slider.min\n",
    "    B_t0p0 = B_t0_slider.value[0]\n",
    "    B_t1p0 = B_t1_slider.value[0] - B_t1_slider.min\n",
    "    A_npv = A_t0p0 / (A_t0p0 + A_t1p0)\n",
    "    B_npv = B_t0p0 / (B_t0p0 + B_t1p0)\n",
    "    npv.description = \"NPV equality? A_npv = %.3f, B_npv = %.3f\" % (A_npv, B_npv)\n",
    "    npv.value = A_npv - CLOSE <= B_npv <= A_npv + CLOSE\n",
    "A_t0_slider.observe(check_npv_equal, 'value')\n",
    "A_t1_slider.observe(check_npv_equal, 'value')\n",
    "B_t0_slider.observe(check_npv_equal, 'value')\n",
    "B_t1_slider.observe(check_npv_equal, 'value')\n",
    "A_base_rate_slider.observe(check_npv_equal, 'value')\n",
    "B_base_rate_slider.observe(check_npv_equal, 'value')\n",
    "display(npv)\n",
    "\n",
    "fpr_did = widgets.Valid(value = True, description = \"FPR (DID) equality? A_fpr(did) = %.3f, B_fpr(did) = %.3f\" % (0.5, 0.5), \n",
    "                    style={'description_width': 'initial'}, layout=Layout(width='500px', height='100%'))\n",
    "def check_fpr_did_equal(A_t0=A_t0_slider, A_t1=A_t1_slider, B_t0=B_t0_slider, B_t1=B_t1_slider):\n",
    "    A_t0p0 = A_t0_slider.value[0]\n",
    "    A_t0p1 = A_t0_slider.value[1] - A_t0_slider.value[0]\n",
    "    A_t0pX = A_t0_slider.max - A_t0_slider.value[1]\n",
    "    B_t0p0 = B_t0_slider.value[0]\n",
    "    B_t0p1 = B_t0_slider.value[1] - B_t0_slider.value[0]\n",
    "    B_t0pX = B_t0_slider.max - B_t0_slider.value[1]\n",
    "    A_fprdid = A_t0p1 / (A_t0p1 + A_t0p0 + A_t0pX)\n",
    "    B_fprdid = B_t0p1 / (B_t0p1 + B_t0p0 + A_t0pX)\n",
    "    fpr_did.description = \"FPR (DID) equality? A_fpr(did) = %.3f, B_fpr(did) = %.3f\" % (A_fprdid, B_fprdid)\n",
    "    fpr_did.value = A_fprdid - CLOSE <= B_fprdid <= A_fprdid + CLOSE\n",
    "A_t0_slider.observe(check_fpr_did_equal, 'value')\n",
    "A_t1_slider.observe(check_fpr_did_equal, 'value')\n",
    "B_t0_slider.observe(check_fpr_did_equal, 'value')\n",
    "B_t1_slider.observe(check_fpr_did_equal, 'value')\n",
    "A_base_rate_slider.observe(check_fpr_did_equal, 'value')\n",
    "B_base_rate_slider.observe(check_fpr_did_equal, 'value')\n",
    "\n",
    "fpr_nodid = widgets.Valid(value = True, description = \"FPR (NoDID) equality? A_fpr(nodid) = %.3f, B_fpr(nodid) = %.3f\" % (0.5, 0.5), \n",
    "                    style={'description_width': 'initial'}, layout=Layout(width='500px', height='100%'))\n",
    "def check_fpr_nodid_equal(A_t0=A_t0_slider, A_t1=A_t1_slider, B_t0=B_t0_slider, B_t1=B_t1_slider):\n",
    "    A_t0p0 = A_t0_slider.value[0]\n",
    "    A_t0p1 = A_t0_slider.value[1] - A_t0_slider.value[0]\n",
    "    A_t0pX = A_t0_slider.max - A_t0_slider.value[1]\n",
    "    B_t0p0 = B_t0_slider.value[0]\n",
    "    B_t0p1 = B_t0_slider.value[1] - B_t0_slider.value[0]\n",
    "    B_t0pX = B_t0_slider.max - B_t0_slider.value[1]\n",
    "    A_fprnodid = A_t0p1 / (A_t0p1 + A_t0p0)\n",
    "    B_fprnodid = B_t0p1 / (B_t0p1 + B_t0p0)\n",
    "    fpr_nodid.description = \"FPR (NoDID) equality? A_fpr(nodid) = %.3f, B_fpr(nodid) = %.3f\" % (A_fprnodid, B_fprnodid)\n",
    "    fpr_nodid.value = A_fprnodid - CLOSE <= B_fprnodid <= A_fprnodid + CLOSE\n",
    "A_t0_slider.observe(check_fpr_nodid_equal, 'value')\n",
    "A_t1_slider.observe(check_fpr_nodid_equal, 'value')\n",
    "B_t0_slider.observe(check_fpr_nodid_equal, 'value')\n",
    "B_t1_slider.observe(check_fpr_nodid_equal, 'value')\n",
    "A_base_rate_slider.observe(check_fpr_did_equal, 'value')\n",
    "B_base_rate_slider.observe(check_fpr_did_equal, 'value')\n",
    "display(HBox([fpr_did, fpr_nodid]))\n",
    "\n",
    "\n",
    "fnr_did = widgets.Valid(value = True, description = \"FNR (DID) equality? A_fnr(did) = %.3f, B_fnr(did) = %.3f\" % (0.5, 0.5), \n",
    "                    style={'description_width': 'initial'}, layout=Layout(width='500px', height='100%'))\n",
    "def check_fnr_did_equal(A_t0=A_t0_slider, A_t1=A_t1_slider, B_t0=B_t0_slider, B_t1=B_t1_slider):\n",
    "    A_t1p0 = A_t1_slider.value[0] - A_t1_slider.min\n",
    "    A_t1p1 = A_t1_slider.value[1] - A_t1_slider.value[0]\n",
    "    A_t1pX = 1.0 - A_t1_slider.value[1]\n",
    "    B_t1p0 = B_t1_slider.value[0] - B_t1_slider.min\n",
    "    B_t1p1 = B_t1_slider.value[1] - B_t1_slider.value[0]\n",
    "    B_t1pX = 1.0 - B_t1_slider.value[1]\n",
    "    A_fnrdid = A_t1p0 / (A_t1p0 + A_t1p1 + A_t1pX)\n",
    "    B_fnrdid = B_t1p0 / (B_t1p0 + B_t1p1 + A_t1pX)\n",
    "    fnr_did.description = \"FNR (DID) equality? A_fnr(did) = %.3f, B_fnr(did) = %.3f\" % (A_fnrdid, B_fnrdid)\n",
    "    fnr_did.value = A_fnrdid - CLOSE <= B_fnrdid <= A_fnrdid + CLOSE\n",
    "A_t0_slider.observe(check_fnr_did_equal, 'value')\n",
    "A_t1_slider.observe(check_fnr_did_equal, 'value')\n",
    "B_t0_slider.observe(check_fnr_did_equal, 'value')\n",
    "B_t1_slider.observe(check_fnr_did_equal, 'value')\n",
    "A_base_rate_slider.observe(check_fnr_did_equal, 'value')\n",
    "B_base_rate_slider.observe(check_fnr_did_equal, 'value')\n",
    "\n",
    "fnr_nodid = widgets.Valid(value = True, description = \"FNR (NoDID) equality? A_fnr(nodid) = %.3f, B_fnr(nodid) = %.3f\" % (0.5, 0.5), \n",
    "                    style={'description_width': 'initial'}, layout=Layout(width='500px', height='100%'))\n",
    "def check_fnr_nodid_equal(A_t0=A_t0_slider, A_t1=A_t1_slider, B_t0=B_t0_slider, B_t1=B_t1_slider):\n",
    "    A_t1p0 = A_t1_slider.value[0] - A_t1_slider.min\n",
    "    A_t1p1 = A_t1_slider.value[1] - A_t1_slider.value[0]\n",
    "    A_t1pX = 1.0 - A_t1_slider.value[1]\n",
    "    B_t1p0 = B_t1_slider.value[0] - B_t1_slider.min\n",
    "    B_t1p1 = B_t1_slider.value[1] - B_t1_slider.value[0]\n",
    "    B_t1pX = 1.0 - B_t1_slider.value[1]\n",
    "    A_fnrnodid = A_t1p0 / (A_t1p0 + A_t1p1)\n",
    "    B_fnrnodid = B_t1p0 / (B_t1p0 + B_t1p1)\n",
    "    fnr_nodid.description = \"FNR (NoDID) equality? A_fnr(nodid) = %.3f, B_fnr(nodid) = %.3f\" % (A_fnrnodid, B_fnrnodid)\n",
    "    fnr_nodid.value = A_fnrnodid - CLOSE <= B_fnrnodid <= A_fnrnodid + CLOSE\n",
    "A_t0_slider.observe(check_fnr_nodid_equal, 'value')\n",
    "A_t1_slider.observe(check_fnr_nodid_equal, 'value')\n",
    "B_t0_slider.observe(check_fnr_nodid_equal, 'value')\n",
    "B_t1_slider.observe(check_fnr_nodid_equal, 'value')\n",
    "A_base_rate_slider.observe(check_fnr_did_equal, 'value')\n",
    "B_base_rate_slider.observe(check_fnr_did_equal, 'value')\n",
    "display(HBox([fnr_did, fnr_nodid]))\n",
    "    "
   ]
  },
  {
   "cell_type": "code",
   "execution_count": null,
   "metadata": {},
   "outputs": [],
   "source": []
  }
 ],
 "metadata": {
  "kernelspec": {
   "display_name": "Python 3",
   "language": "python",
   "name": "python3"
  },
  "language_info": {
   "codemirror_mode": {
    "name": "ipython",
    "version": 3
   },
   "file_extension": ".py",
   "mimetype": "text/x-python",
   "name": "python",
   "nbconvert_exporter": "python",
   "pygments_lexer": "ipython3",
   "version": "3.6.1"
  }
 },
 "nbformat": 4,
 "nbformat_minor": 2
}
